{
 "cells": [
  {
   "cell_type": "code",
   "execution_count": 1,
   "metadata": {},
   "outputs": [],
   "source": [
    "#importing libraries\n",
    "import sys\n",
    "import json\n",
    "import time\n",
    "from telnetlib import Telnet\n",
    "import serial\n",
    "import pandas as pd\n",
    "\n",
    "import matplotlib.pyplot as plt\n",
    "import matplotlib.animation as animation"
   ]
  },
  {
   "cell_type": "code",
   "execution_count": 2,
   "metadata": {},
   "outputs": [],
   "source": [
    "ser = serial.Serial('COM4', 9600, timeout=1);\n",
    "tn=Telnet('localhost',13854);\n",
    "\n",
    "start=time.clock();\n",
    "\n",
    "i=0;\n",
    "tn.write(b'{\"enableRawOutput\": true, \"format\": \"Json\"}');\n",
    "\n",
    "eSenseDict={'attention':0, 'meditation':0};\n",
    "waveDict={'lowGamma':0, 'highGamma':0, 'highAlpha':0, 'delta':0, 'highBeta':0, 'lowAlpha':0, 'lowBeta':0, 'theta':0};\n",
    "signalLevel=0;"
   ]
  },
  {
   "cell_type": "code",
   "execution_count": 3,
   "metadata": {},
   "outputs": [
    {
     "ename": "UnicodeDecodeError",
     "evalue": "'utf-8' codec can't decode byte 0xaa in position 0: invalid start byte",
     "output_type": "error",
     "traceback": [
      "\u001b[1;31m---------------------------------------------------------------------------\u001b[0m",
      "\u001b[1;31mUnicodeDecodeError\u001b[0m                        Traceback (most recent call last)",
      "\u001b[1;32m<ipython-input-3-b4a5d6d0b84f>\u001b[0m in \u001b[0;36m<module>\u001b[1;34m\u001b[0m\n\u001b[0;32m     14\u001b[0m     \u001b[1;32mif\u001b[0m \u001b[0mlen\u001b[0m\u001b[1;33m(\u001b[0m\u001b[0mline\u001b[0m\u001b[1;33m)\u001b[0m \u001b[1;33m>\u001b[0m \u001b[1;36m20\u001b[0m\u001b[1;33m:\u001b[0m\u001b[1;33m\u001b[0m\u001b[1;33m\u001b[0m\u001b[0m\n\u001b[0;32m     15\u001b[0m         \u001b[0mtimediff\u001b[0m\u001b[1;33m=\u001b[0m\u001b[0mtime\u001b[0m\u001b[1;33m.\u001b[0m\u001b[0mclock\u001b[0m\u001b[1;33m(\u001b[0m\u001b[1;33m)\u001b[0m\u001b[1;33m-\u001b[0m\u001b[0mstart\u001b[0m\u001b[1;33m;\u001b[0m\u001b[1;33m\u001b[0m\u001b[1;33m\u001b[0m\u001b[0m\n\u001b[1;32m---> 16\u001b[1;33m         \u001b[0mdict\u001b[0m\u001b[1;33m=\u001b[0m\u001b[0mjson\u001b[0m\u001b[1;33m.\u001b[0m\u001b[0mloads\u001b[0m\u001b[1;33m(\u001b[0m\u001b[1;33m(\u001b[0m\u001b[0mline\u001b[0m\u001b[1;33m)\u001b[0m\u001b[1;33m)\u001b[0m\u001b[1;33m;\u001b[0m\u001b[1;33m\u001b[0m\u001b[1;33m\u001b[0m\u001b[0m\n\u001b[0m\u001b[0;32m     17\u001b[0m         \u001b[1;32mif\u001b[0m \u001b[1;34m\"poorSignalLevel\"\u001b[0m \u001b[1;32min\u001b[0m \u001b[0mdict\u001b[0m\u001b[1;33m:\u001b[0m\u001b[1;33m\u001b[0m\u001b[1;33m\u001b[0m\u001b[0m\n\u001b[0;32m     18\u001b[0m             \u001b[0msignalLevel\u001b[0m\u001b[1;33m=\u001b[0m\u001b[0mdict\u001b[0m\u001b[1;33m[\u001b[0m\u001b[1;34m'poorSignalLevel'\u001b[0m\u001b[1;33m]\u001b[0m\u001b[1;33m;\u001b[0m\u001b[1;33m\u001b[0m\u001b[1;33m\u001b[0m\u001b[0m\n",
      "\u001b[1;32mc:\\users\\hp\\anaconda3\\envs\\tensorflow\\lib\\json\\__init__.py\u001b[0m in \u001b[0;36mloads\u001b[1;34m(s, encoding, cls, object_hook, parse_float, parse_int, parse_constant, object_pairs_hook, **kw)\u001b[0m\n\u001b[0;32m    347\u001b[0m             raise TypeError('the JSON object must be str, bytes or bytearray, '\n\u001b[0;32m    348\u001b[0m                             'not {!r}'.format(s.__class__.__name__))\n\u001b[1;32m--> 349\u001b[1;33m         \u001b[0ms\u001b[0m \u001b[1;33m=\u001b[0m \u001b[0ms\u001b[0m\u001b[1;33m.\u001b[0m\u001b[0mdecode\u001b[0m\u001b[1;33m(\u001b[0m\u001b[0mdetect_encoding\u001b[0m\u001b[1;33m(\u001b[0m\u001b[0ms\u001b[0m\u001b[1;33m)\u001b[0m\u001b[1;33m,\u001b[0m \u001b[1;34m'surrogatepass'\u001b[0m\u001b[1;33m)\u001b[0m\u001b[1;33m\u001b[0m\u001b[1;33m\u001b[0m\u001b[0m\n\u001b[0m\u001b[0;32m    350\u001b[0m \u001b[1;33m\u001b[0m\u001b[0m\n\u001b[0;32m    351\u001b[0m     if (cls is None and object_hook is None and\n",
      "\u001b[1;31mUnicodeDecodeError\u001b[0m: 'utf-8' codec can't decode byte 0xaa in position 0: invalid start byte"
     ]
    },
    {
     "data": {
      "image/png": "[encoded data removed]",
      "text/plain": [
       "<Figure size 432x288 with 1 Axes>"
      ]
     },
     "metadata": {
      "needs_background": "light"
     },
     "output_type": "display_data"
    }
   ],
   "source": [
    "EEGDATAFRAME = pd.DataFrame(columns=['Attention', 'Meditation','Blink_Strength'])\n",
    "\n",
    "\n",
    "while i<100:\n",
    "    eeg_data = []\n",
    "\n",
    "    blinkStrength=0;\n",
    "\n",
    "    line=tn.read_until(b'\\r');\n",
    "\n",
    "    if len(line) > 20:\n",
    "        timediff=time.clock()-start;\n",
    "        dict=json.loads((line));\n",
    "        if \"poorSignalLevel\" in dict:\n",
    "            signalLevel=dict['poorSignalLevel'];\n",
    "        if \"blinkStrength\" in dict:\n",
    "            blinkStrength=dict['blinkStrength'];\n",
    "        if \"eegPower\" in dict:\n",
    "            waveDict=dict['eegPower'];\n",
    "            eSenseDict=dict['eSense'];\n",
    "\n",
    "        attentionStr=str(eSenseDict['attention']);\n",
    "        meditationStr=str(eSenseDict['meditation']);\n",
    "        blinkStrengthStr=str(blinkStrength);\n",
    "\n",
    "        eeg_data.append({'Attention': attentionStr, 'Meditation': meditationStr, 'Blink_Strength':blinkStrengthStr})\n",
    "        print(eeg_data);\n",
    "        eeg_df = pd.DataFrame(eeg_data)\n",
    "        EEGDATAFRAME = EEGDATAFRAME.append(eeg_df, ignore_index=True)\n",
    "        print(EEGDATAFRAME) \n",
    "\n",
    "#         print(\"Attention: \" + attentionStr);\n",
    "#         print(\"Meditation: \" + meditationStr);\n",
    "#         print(\"Blink Strength: \" + blinkStrengthStr);\n",
    "#         print(\"\");\n",
    "\n",
    "        attentionInt = int(attentionStr)\n",
    "        if attentionInt > 70:\n",
    "            ser.write(str.encode('a'));\n",
    "            time.sleep(1)\n",
    "\n",
    "        meditationInt = int(meditationStr)\n",
    "        if meditationInt > 70:\n",
    "            ser.write(str.encode('b'));\n",
    "            time.sleep(1)\n",
    "\n",
    "        blinkStrengthInt = int(blinkStrengthStr)\n",
    "        if blinkStrengthInt > 1:\n",
    "            ser.write(str.encode('c'));\n",
    "            time.sleep(1)\n",
    "\n",
    "ser.close();\n",
    "tn.close();"
   ]
  },
  {
   "cell_type": "code",
   "execution_count": null,
   "metadata": {},
   "outputs": [],
   "source": []
  }
 ],
 "metadata": {
  "kernelspec": {
   "display_name": "Python 3",
   "language": "python",
   "name": "python3"
  },
  "language_info": {
   "codemirror_mode": {
    "name": "ipython",
    "version": 3
   },
   "file_extension": ".py",
   "mimetype": "text/x-python",
   "name": "python",
   "nbconvert_exporter": "python",
   "pygments_lexer": "ipython3",
   "version": "3.6.8"
  }
 },
 "nbformat": 4,
 "nbformat_minor": 2
}
